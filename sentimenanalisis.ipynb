{
 "cells": [
  {
   "cell_type": "code",
   "execution_count": 1,
   "id": "quarterly-romance",
   "metadata": {
    "execution": {
     "iopub.execute_input": "2021-04-30T18:37:04.482186Z",
     "iopub.status.busy": "2021-04-30T18:37:04.480860Z",
     "iopub.status.idle": "2021-04-30T18:37:05.795377Z",
     "shell.execute_reply": "2021-04-30T18:37:05.794546Z"
    },
    "papermill": {
     "duration": 1.339845,
     "end_time": "2021-04-30T18:37:05.795581",
     "exception": false,
     "start_time": "2021-04-30T18:37:04.455736",
     "status": "completed"
    },
    "tags": []
   },
   "outputs": [],
   "source": [
    "#import tweepy\n",
    "import re\n",
    "import pandas as pd\n",
    "import seaborn as sns\n",
    "import matplotlib.pyplot as plt\n",
    "from wordcloud import WordCloud, STOPWORDS\n",
    "from sklearn.model_selection import cross_val_score"
   ]
  },
  {
   "cell_type": "code",
   "execution_count": 2,
   "id": "broke-interval",
   "metadata": {
    "execution": {
     "iopub.execute_input": "2021-04-30T18:37:05.842620Z",
     "iopub.status.busy": "2021-04-30T18:37:05.841844Z",
     "iopub.status.idle": "2021-04-30T18:37:05.845580Z",
     "shell.execute_reply": "2021-04-30T18:37:05.844994Z"
    },
    "papermill": {
     "duration": 0.029371,
     "end_time": "2021-04-30T18:37:05.845742",
     "exception": false,
     "start_time": "2021-04-30T18:37:05.816371",
     "status": "completed"
    },
    "tags": []
   },
   "outputs": [],
   "source": [
    "api_key = \"DSWM4DG0dA24FLNES9fjYvOU2\"\n",
    "api_secret_key = \"4Iae2GFNG7Ycg6QrdS2K2qFndn9V951Ty6pnCvfVnYKGcTRqcC\"\n",
    "access_token = \"1189906063346135042-9dosXnpfLdYV9LPKDhQo1r9SjXuKpG\"\n",
    "access_token_secret = \"UhDwUWP85WNbtpxNQPCAdmIlOZFfkVVsZIllba4zl5i8T\""
   ]
  },
  {
   "cell_type": "code",
   "execution_count": 3,
   "id": "upset-former",
   "metadata": {
    "execution": {
     "iopub.execute_input": "2021-04-30T18:37:05.900092Z",
     "iopub.status.busy": "2021-04-30T18:37:05.899330Z",
     "iopub.status.idle": "2021-04-30T18:37:06.011349Z",
     "shell.execute_reply": "2021-04-30T18:37:06.010716Z"
    },
    "papermill": {
     "duration": 0.144822,
     "end_time": "2021-04-30T18:37:06.011550",
     "exception": false,
     "start_time": "2021-04-30T18:37:05.866728",
     "status": "completed"
    },
    "tags": []
   },
   "outputs": [
    {
     "ename": "NameError",
     "evalue": "name 'List' is not defined",
     "output_type": "error",
     "traceback": [
      "\u001b[0;31m---------------------------------------------------------------------------\u001b[0m",
      "\u001b[0;31mNameError\u001b[0m                                 Traceback (most recent call last)",
      "\u001b[0;32m<ipython-input-3-7043606e20fd>\u001b[0m in \u001b[0;36m<module>\u001b[0;34m\u001b[0m\n\u001b[1;32m      6\u001b[0m \u001b[0;34m\u001b[0m\u001b[0m\n\u001b[1;32m      7\u001b[0m \u001b[0;34m\u001b[0m\u001b[0m\n\u001b[0;32m----> 8\u001b[0;31m \u001b[0mList\u001b[0m\u001b[0;34m\u001b[0m\u001b[0;34m\u001b[0m\u001b[0m\n\u001b[0m\u001b[1;32m      9\u001b[0m \u001b[0;31m#tweetan=[]\u001b[0m\u001b[0;34m\u001b[0m\u001b[0;34m\u001b[0m\u001b[0;34m\u001b[0m\u001b[0m\n\u001b[1;32m     10\u001b[0m \u001b[0mtanggal\u001b[0m\u001b[0;34m=\u001b[0m\u001b[0;34m[\u001b[0m\u001b[0;34m]\u001b[0m\u001b[0;34m\u001b[0m\u001b[0;34m\u001b[0m\u001b[0m\n",
      "\u001b[0;31mNameError\u001b[0m: name 'List' is not defined"
     ]
    }
   ],
   "source": [
    "#auth = tweepy.OAuthHandler(api_key, api_secret_key)\n",
    "#auth.set_access_token(access_token, access_token_secret)\n",
    "#api = tweepy.API(auth,wait_on_rate_limit=True,wait_on_rate_limit_notify=True)\n",
    "\n",
    "query = 'Avengers Endgame'\n",
    "\n",
    "\n",
    "List\n",
    "#tweetan=[]\n",
    "tanggal=[]\n",
    "teks=[]\n",
    "Id=[]\n",
    "sn=[]\n",
    "source=[]\n",
    "rtc=[]\n",
    "rts=[]\n",
    "hashtag =[]\n",
    "\n",
    "for tweet in tweepy.Cursor(api.search, q=query, count=10, lang = \"en\",since = \"2021-04-29\").items():    \n",
    "    tweetan.append(tweet)\n",
    "    tanggal.append(tweet.created_at) \n",
    "    teks.append(tweet.text.encode('utf-8'))\n",
    "    Id.append(tweet.id)\n",
    "    sn.append(tweet.user.screen_name)\n",
    "    source.append(tweet.source)\n",
    "    rtc.append(tweet.retweet_count)\n",
    "    hashtag.append([x['text'] for x in tweet.entities['hashtags']])\n",
    "    if 'RT' in tweet.text :\n",
    "        rts.append(1)\n",
    "    else :\n",
    "        rts.append(0)\n",
    "    print(len(Id))"
   ]
  },
  {
   "cell_type": "code",
   "execution_count": 4,
   "id": "behavioral-subscriber",
   "metadata": {
    "execution": {
     "iopub.execute_input": "2021-04-30T18:37:06.075331Z",
     "iopub.status.busy": "2021-04-30T18:37:06.074557Z",
     "iopub.status.idle": "2021-04-30T18:37:06.082674Z",
     "shell.execute_reply": "2021-04-30T18:37:06.082043Z"
    },
    "papermill": {
     "duration": 0.049157,
     "end_time": "2021-04-30T18:37:06.082832",
     "exception": false,
     "start_time": "2021-04-30T18:37:06.033675",
     "status": "completed"
    },
    "tags": []
   },
   "outputs": [
    {
     "ename": "NameError",
     "evalue": "name 'tanggal' is not defined",
     "output_type": "error",
     "traceback": [
      "\u001b[0;31m---------------------------------------------------------------------------\u001b[0m",
      "\u001b[0;31mNameError\u001b[0m                                 Traceback (most recent call last)",
      "\u001b[0;32m<ipython-input-4-69a5124e0155>\u001b[0m in \u001b[0;36m<module>\u001b[0;34m\u001b[0m\n\u001b[1;32m      1\u001b[0m \u001b[0mdata\u001b[0m \u001b[0;34m=\u001b[0m \u001b[0mpd\u001b[0m\u001b[0;34m.\u001b[0m\u001b[0mDataFrame\u001b[0m\u001b[0;34m(\u001b[0m\u001b[0;34m)\u001b[0m\u001b[0;34m\u001b[0m\u001b[0;34m\u001b[0m\u001b[0m\n\u001b[0;32m----> 2\u001b[0;31m \u001b[0mdata\u001b[0m\u001b[0;34m[\u001b[0m\u001b[0;34m'Tanggal'\u001b[0m\u001b[0;34m]\u001b[0m\u001b[0;34m=\u001b[0m\u001b[0mtanggal\u001b[0m\u001b[0;34m\u001b[0m\u001b[0;34m\u001b[0m\u001b[0m\n\u001b[0m\u001b[1;32m      3\u001b[0m \u001b[0mdata\u001b[0m\u001b[0;34m[\u001b[0m\u001b[0;34m'Tweets'\u001b[0m\u001b[0;34m]\u001b[0m\u001b[0;34m=\u001b[0m\u001b[0mteks\u001b[0m\u001b[0;34m\u001b[0m\u001b[0;34m\u001b[0m\u001b[0m\n\u001b[1;32m      4\u001b[0m \u001b[0mdata\u001b[0m\u001b[0;34m[\u001b[0m\u001b[0;34m'ID'\u001b[0m\u001b[0;34m]\u001b[0m\u001b[0;34m=\u001b[0m\u001b[0mId\u001b[0m\u001b[0;34m\u001b[0m\u001b[0;34m\u001b[0m\u001b[0m\n\u001b[1;32m      5\u001b[0m \u001b[0mdata\u001b[0m\u001b[0;34m[\u001b[0m\u001b[0;34m'Screen Name'\u001b[0m\u001b[0;34m]\u001b[0m\u001b[0;34m=\u001b[0m\u001b[0msn\u001b[0m\u001b[0;34m\u001b[0m\u001b[0;34m\u001b[0m\u001b[0m\n",
      "\u001b[0;31mNameError\u001b[0m: name 'tanggal' is not defined"
     ]
    }
   ],
   "source": [
    "data = pd.DataFrame()\n",
    "data['Tanggal']=tanggal\n",
    "data['Tweets']=teks\n",
    "data['ID']=Id\n",
    "data['Screen Name']=sn\n",
    "data['Banyak Retweet']=rtc\n",
    "data['Source']=source\n",
    "data['Retweet Status']=rts\n",
    "data['Hashtags'] = hashtag\n",
    "data.to_csv('Avengers.csv',index=False)"
   ]
  },
  {
   "cell_type": "code",
   "execution_count": 5,
   "id": "annual-association",
   "metadata": {
    "execution": {
     "iopub.execute_input": "2021-04-30T18:37:06.132237Z",
     "iopub.status.busy": "2021-04-30T18:37:06.131278Z",
     "iopub.status.idle": "2021-04-30T18:37:06.189863Z",
     "shell.execute_reply": "2021-04-30T18:37:06.188820Z"
    },
    "papermill": {
     "duration": 0.085658,
     "end_time": "2021-04-30T18:37:06.190097",
     "exception": false,
     "start_time": "2021-04-30T18:37:06.104439",
     "status": "completed"
    },
    "tags": []
   },
   "outputs": [
    {
     "name": "stdout",
     "output_type": "stream",
     "text": [
      "/kaggle/input/inputdata/dataset.xlsx\n",
      "/kaggle/input/d/sunnysweca/dataset/dataset.xlsx\n"
     ]
    }
   ],
   "source": [
    "import os\n",
    "for dirname, _, filenames in os.walk('/kaggle/input'):\n",
    "    for filename in filenames:\n",
    "        print(os.path.join(dirname, filename))"
   ]
  },
  {
   "cell_type": "code",
   "execution_count": 6,
   "id": "consecutive-fighter",
   "metadata": {
    "execution": {
     "iopub.execute_input": "2021-04-30T18:37:06.257769Z",
     "iopub.status.busy": "2021-04-30T18:37:06.256960Z",
     "iopub.status.idle": "2021-04-30T18:37:16.469393Z",
     "shell.execute_reply": "2021-04-30T18:37:16.468565Z"
    },
    "papermill": {
     "duration": 10.2569,
     "end_time": "2021-04-30T18:37:16.469581",
     "exception": false,
     "start_time": "2021-04-30T18:37:06.212681",
     "status": "completed"
    },
    "tags": []
   },
   "outputs": [
    {
     "name": "stdout",
     "output_type": "stream",
     "text": [
      "Collecting openpyxl\r\n",
      "  Downloading openpyxl-3.0.7-py2.py3-none-any.whl (243 kB)\r\n",
      "\u001b[K     |████████████████████████████████| 243 kB 1.2 MB/s \r\n",
      "\u001b[?25hCollecting et-xmlfile\r\n",
      "  Downloading et_xmlfile-1.1.0-py3-none-any.whl (4.7 kB)\r\n",
      "Installing collected packages: et-xmlfile, openpyxl\r\n",
      "Successfully installed et-xmlfile-1.1.0 openpyxl-3.0.7\r\n"
     ]
    }
   ],
   "source": [
    "!pip install openpyxl"
   ]
  },
  {
   "cell_type": "code",
   "execution_count": 7,
   "id": "pointed-seventh",
   "metadata": {
    "execution": {
     "iopub.execute_input": "2021-04-30T18:37:16.527992Z",
     "iopub.status.busy": "2021-04-30T18:37:16.526804Z",
     "iopub.status.idle": "2021-04-30T18:37:17.340072Z",
     "shell.execute_reply": "2021-04-30T18:37:17.339486Z"
    },
    "papermill": {
     "duration": 0.84506,
     "end_time": "2021-04-30T18:37:17.340242",
     "exception": false,
     "start_time": "2021-04-30T18:37:16.495182",
     "status": "completed"
    },
    "tags": []
   },
   "outputs": [
    {
     "data": {
      "text/html": [
       "<div>\n",
       "<style scoped>\n",
       "    .dataframe tbody tr th:only-of-type {\n",
       "        vertical-align: middle;\n",
       "    }\n",
       "\n",
       "    .dataframe tbody tr th {\n",
       "        vertical-align: top;\n",
       "    }\n",
       "\n",
       "    .dataframe thead th {\n",
       "        text-align: right;\n",
       "    }\n",
       "</style>\n",
       "<table border=\"1\" class=\"dataframe\">\n",
       "  <thead>\n",
       "    <tr style=\"text-align: right;\">\n",
       "      <th></th>\n",
       "      <th>Tanggal</th>\n",
       "      <th>Value</th>\n",
       "      <th>Tweets</th>\n",
       "      <th>Unnamed: 3</th>\n",
       "      <th>Screen Name</th>\n",
       "      <th>Unnamed: 5</th>\n",
       "      <th>Source</th>\n",
       "      <th>Retweet Status</th>\n",
       "      <th>Hashtags</th>\n",
       "      <th>Unnamed: 9</th>\n",
       "      <th>Unnamed: 10</th>\n",
       "    </tr>\n",
       "  </thead>\n",
       "  <tbody>\n",
       "    <tr>\n",
       "      <th>0</th>\n",
       "      <td>2021-04-30 16:22:33</td>\n",
       "      <td>1</td>\n",
       "      <td>b'@JayKeyFN 1) Avengers Endgame Collab\\n2) Sta...</td>\n",
       "      <td>NaN</td>\n",
       "      <td>GreenieDaArtist</td>\n",
       "      <td>NaN</td>\n",
       "      <td>Twitter for Android</td>\n",
       "      <td>0.0</td>\n",
       "      <td>[]</td>\n",
       "      <td>NaN</td>\n",
       "      <td>NaN</td>\n",
       "    </tr>\n",
       "    <tr>\n",
       "      <th>1</th>\n",
       "      <td>2021-04-30 16:22:23</td>\n",
       "      <td>1</td>\n",
       "      <td>b'@JayKeyFN 1. All of Chapter 2 Season 4\\n2. T...</td>\n",
       "      <td>NaN</td>\n",
       "      <td>EpicSansMain_</td>\n",
       "      <td>NaN</td>\n",
       "      <td>Twitter for Android</td>\n",
       "      <td>0.0</td>\n",
       "      <td>[]</td>\n",
       "      <td>NaN</td>\n",
       "      <td>NaN</td>\n",
       "    </tr>\n",
       "    <tr>\n",
       "      <th>2</th>\n",
       "      <td>2021-04-30 16:22:00</td>\n",
       "      <td>0</td>\n",
       "      <td>b'Imagine I went to Olongapo with no one and w...</td>\n",
       "      <td>NaN</td>\n",
       "      <td>yvnnxvrn_</td>\n",
       "      <td>NaN</td>\n",
       "      <td>Twitter for Android</td>\n",
       "      <td>0.0</td>\n",
       "      <td>[]</td>\n",
       "      <td>NaN</td>\n",
       "      <td>NaN</td>\n",
       "    </tr>\n",
       "    <tr>\n",
       "      <th>3</th>\n",
       "      <td>2021-04-30 16:14:48</td>\n",
       "      <td>1</td>\n",
       "      <td>b'Avengers Endgame rewatch. \\nOh boy!\\nTony!!!...</td>\n",
       "      <td>NaN</td>\n",
       "      <td>SongWarmonger</td>\n",
       "      <td>NaN</td>\n",
       "      <td>Twitter for Android</td>\n",
       "      <td>0.0</td>\n",
       "      <td>[]</td>\n",
       "      <td>NaN</td>\n",
       "      <td>NaN</td>\n",
       "    </tr>\n",
       "    <tr>\n",
       "      <th>4</th>\n",
       "      <td>2021-04-30 16:11:52</td>\n",
       "      <td>1</td>\n",
       "      <td>b'@momsfilms Thanks Anne. Feeling a bit better...</td>\n",
       "      <td>NaN</td>\n",
       "      <td>SongWarmonger</td>\n",
       "      <td>NaN</td>\n",
       "      <td>Twitter for Android</td>\n",
       "      <td>0.0</td>\n",
       "      <td>[]</td>\n",
       "      <td>NaN</td>\n",
       "      <td>NaN</td>\n",
       "    </tr>\n",
       "  </tbody>\n",
       "</table>\n",
       "</div>"
      ],
      "text/plain": [
       "              Tanggal  Value  \\\n",
       "0 2021-04-30 16:22:33      1   \n",
       "1 2021-04-30 16:22:23      1   \n",
       "2 2021-04-30 16:22:00      0   \n",
       "3 2021-04-30 16:14:48      1   \n",
       "4 2021-04-30 16:11:52      1   \n",
       "\n",
       "                                              Tweets  Unnamed: 3  \\\n",
       "0  b'@JayKeyFN 1) Avengers Endgame Collab\\n2) Sta...         NaN   \n",
       "1  b'@JayKeyFN 1. All of Chapter 2 Season 4\\n2. T...         NaN   \n",
       "2  b'Imagine I went to Olongapo with no one and w...         NaN   \n",
       "3  b'Avengers Endgame rewatch. \\nOh boy!\\nTony!!!...         NaN   \n",
       "4  b'@momsfilms Thanks Anne. Feeling a bit better...         NaN   \n",
       "\n",
       "       Screen Name  Unnamed: 5               Source  Retweet Status Hashtags  \\\n",
       "0  GreenieDaArtist         NaN  Twitter for Android             0.0       []   \n",
       "1    EpicSansMain_         NaN  Twitter for Android             0.0       []   \n",
       "2        yvnnxvrn_         NaN  Twitter for Android             0.0       []   \n",
       "3    SongWarmonger         NaN  Twitter for Android             0.0       []   \n",
       "4    SongWarmonger         NaN  Twitter for Android             0.0       []   \n",
       "\n",
       "  Unnamed: 9 Unnamed: 10  \n",
       "0        NaN         NaN  \n",
       "1        NaN         NaN  \n",
       "2        NaN         NaN  \n",
       "3        NaN         NaN  \n",
       "4        NaN         NaN  "
      ]
     },
     "execution_count": 7,
     "metadata": {},
     "output_type": "execute_result"
    }
   ],
   "source": [
    "df = pd.read_excel('/kaggle/input/inputdata/dataset.xlsx')\n",
    "df.head()"
   ]
  },
  {
   "cell_type": "code",
   "execution_count": 8,
   "id": "rising-ending",
   "metadata": {
    "execution": {
     "iopub.execute_input": "2021-04-30T18:37:17.398143Z",
     "iopub.status.busy": "2021-04-30T18:37:17.396913Z",
     "iopub.status.idle": "2021-04-30T18:37:17.400839Z",
     "shell.execute_reply": "2021-04-30T18:37:17.400316Z"
    },
    "papermill": {
     "duration": 0.034588,
     "end_time": "2021-04-30T18:37:17.401022",
     "exception": false,
     "start_time": "2021-04-30T18:37:17.366434",
     "status": "completed"
    },
    "tags": []
   },
   "outputs": [],
   "source": [
    "#Data yang sudah di Crawling, didownload dan ditambahkan kolom value\n",
    "#value 1 untuk komentar positif\n",
    "#value 0 untuk komentar negatif"
   ]
  },
  {
   "cell_type": "code",
   "execution_count": 9,
   "id": "focal-league",
   "metadata": {
    "execution": {
     "iopub.execute_input": "2021-04-30T18:37:17.474758Z",
     "iopub.status.busy": "2021-04-30T18:37:17.473791Z",
     "iopub.status.idle": "2021-04-30T18:37:17.477210Z",
     "shell.execute_reply": "2021-04-30T18:37:17.476506Z"
    },
    "papermill": {
     "duration": 0.050327,
     "end_time": "2021-04-30T18:37:17.477370",
     "exception": false,
     "start_time": "2021-04-30T18:37:17.427043",
     "status": "completed"
    },
    "tags": []
   },
   "outputs": [],
   "source": [
    "def plot_features_distribution(features, title, df, isLog=False):\n",
    "    plt.figure(figsize=(12,6))\n",
    "    plt.title(title)\n",
    "    for feature in features:\n",
    "        if(isLog):\n",
    "            sns.distplot(np.log1p(df[feature]),kde=True,hist=False, bins=120, label=feature)\n",
    "        else:\n",
    "            sns.distplot(df[feature],kde=True,hist=False, bins=120, label=feature)\n",
    "    plt.xlabel('')\n",
    "    plt.legend()\n",
    "    plt.show()\n",
    "\n",
    "def plot_count(feature, title, df, size=1):\n",
    "    f, ax = plt.subplots(1,1, figsize=(4*size,4))\n",
    "    total = float(len(df))\n",
    "    g = sns.countplot(df[feature], order = df[feature].value_counts().index[:30], palette='Set3')\n",
    "    g.set_title(\"Number and percentage of {}\".format(title))\n",
    "    if(size > 2):\n",
    "        plt.xticks(rotation=90, size=8)\n",
    "    for p in ax.patches:\n",
    "        height = p.get_height()\n",
    "        ax.text(p.get_x()+p.get_width()/2.,\n",
    "                height + 3,\n",
    "                '{:1.2f}%'.format(100*height/total),\n",
    "                ha=\"center\") \n",
    "    plt.show() \n",
    "\n",
    "stopwords = set(STOPWORDS)\n",
    "\n",
    "def show_wordcloud(feature,df):\n",
    "    data = df.loc[~df[feature].isnull(), feature].values\n",
    "    count = (~df[feature].isnull()).sum()\n",
    "    wordcloud = WordCloud(\n",
    "        background_color='white',\n",
    "        stopwords=stopwords,\n",
    "        max_words=200,\n",
    "        max_font_size=40, \n",
    "        scale=5,\n",
    "        random_state=1\n",
    "    ).generate(str(data))\n",
    "\n",
    "    fig = plt.figure(1, figsize=(10,10))\n",
    "    plt.axis('off')\n",
    "    fig.suptitle(\"Prevalent words in {} ({} rows)\".format(feature,count), fontsize=20)\n",
    "    fig.subplots_adjust(top=2.3)\n",
    "\n",
    "    plt.imshow(wordcloud)\n",
    "    plt.show()\n",
    "\n",
    "def show_confusion_matrix(valid_y, predicted, size=1, trim_labels=False):\n",
    "    mat = confusion_matrix(valid_y, predicted)\n",
    "    plt.figure(figsize=(4*size, 4*size))\n",
    "    sns.set()\n",
    "    target_labels = np.unique(valid_y)\n",
    "    if(trim_labels):\n",
    "        target_labels = [x[0:70] for x in target_labels]\n",
    "    sns.heatmap(mat.T, square=True, annot=True, fmt='d', cbar=False,\n",
    "                xticklabels=target_labels,\n",
    "                yticklabels=target_labels\n",
    "               )\n",
    "    plt.xlabel('true label')\n",
    "    plt.ylabel('predicted label')\n",
    "    plt.show()"
   ]
  },
  {
   "cell_type": "code",
   "execution_count": 10,
   "id": "great-scott",
   "metadata": {
    "execution": {
     "iopub.execute_input": "2021-04-30T18:37:17.534227Z",
     "iopub.status.busy": "2021-04-30T18:37:17.533229Z",
     "iopub.status.idle": "2021-04-30T18:37:17.550456Z",
     "shell.execute_reply": "2021-04-30T18:37:17.551040Z"
    },
    "papermill": {
     "duration": 0.047375,
     "end_time": "2021-04-30T18:37:17.551239",
     "exception": false,
     "start_time": "2021-04-30T18:37:17.503864",
     "status": "completed"
    },
    "tags": []
   },
   "outputs": [
    {
     "data": {
      "text/plain": [
       "<bound method DataFrame.info of                  Tanggal  Value  \\\n",
       "0    2021-04-30 16:22:33      1   \n",
       "1    2021-04-30 16:22:23      1   \n",
       "2    2021-04-30 16:22:00      0   \n",
       "3    2021-04-30 16:14:48      1   \n",
       "4    2021-04-30 16:11:52      1   \n",
       "...                  ...    ...   \n",
       "1527 2021-04-29 00:02:54      1   \n",
       "1528 2021-04-29 00:02:54      1   \n",
       "1529 2021-04-29 00:02:51      1   \n",
       "1530 2021-04-29 00:01:44      1   \n",
       "1531 2021-04-29 00:01:23      1   \n",
       "\n",
       "                                                 Tweets  Unnamed: 3  \\\n",
       "0     b'@JayKeyFN 1) Avengers Endgame Collab\\n2) Sta...         NaN   \n",
       "1     b'@JayKeyFN 1. All of Chapter 2 Season 4\\n2. T...         NaN   \n",
       "2     b'Imagine I went to Olongapo with no one and w...         NaN   \n",
       "3     b'Avengers Endgame rewatch. \\nOh boy!\\nTony!!!...         NaN   \n",
       "4     b'@momsfilms Thanks Anne. Feeling a bit better...         NaN   \n",
       "...                                                 ...         ...   \n",
       "1527  b'@taecutweb @BTS_twt AVENGERS ENDGAME \\n\\nI v...         NaN   \n",
       "1528  b'@noellearchives Hmm I think: Guardians of th...         NaN   \n",
       "1529  b'I literally will scream in joy when he says ...         NaN   \n",
       "1530  b'@FreddyInSpace I blame it on an over relianc...         NaN   \n",
       "1531  b'RT @Fandango: On #NationalSuperheroDay, rewa...         NaN   \n",
       "\n",
       "          Screen Name  Unnamed: 5               Source  Retweet Status  \\\n",
       "0     GreenieDaArtist         NaN  Twitter for Android             0.0   \n",
       "1       EpicSansMain_         NaN  Twitter for Android             0.0   \n",
       "2           yvnnxvrn_         NaN  Twitter for Android             0.0   \n",
       "3       SongWarmonger         NaN  Twitter for Android             0.0   \n",
       "4       SongWarmonger         NaN  Twitter for Android             0.0   \n",
       "...               ...         ...                  ...             ...   \n",
       "1527    HOUSEIFCARDS_         NaN   Twitter for iPhone             0.0   \n",
       "1528     wanda_maxiii         NaN   Twitter for iPhone             0.0   \n",
       "1529    LeekingMemory         NaN  Twitter for Android             0.0   \n",
       "1530       LethoPeane         NaN  Twitter for Android             0.0   \n",
       "1531        ZETROC___         NaN  Twitter for Android             1.0   \n",
       "\n",
       "                                        Hashtags Unnamed: 9 Unnamed: 10  \n",
       "0                                             []        NaN         NaN  \n",
       "1                                             []        NaN         NaN  \n",
       "2                                             []        NaN         NaN  \n",
       "3                                             []        NaN         NaN  \n",
       "4                                             []        NaN         NaN  \n",
       "...                                          ...        ...         ...  \n",
       "1527  ['BTSARMY', 'BestFanArmy', 'iHeartAwards']        NaN         NaN  \n",
       "1528                                          []        NaN         NaN  \n",
       "1529                                          []        NaN         NaN  \n",
       "1530                                          []        NaN         NaN  \n",
       "1531                    ['NationalSuperheroDay']        NaN         NaN  \n",
       "\n",
       "[1532 rows x 11 columns]>"
      ]
     },
     "execution_count": 10,
     "metadata": {},
     "output_type": "execute_result"
    }
   ],
   "source": [
    "df.info"
   ]
  },
  {
   "cell_type": "code",
   "execution_count": 11,
   "id": "assumed-pressing",
   "metadata": {
    "execution": {
     "iopub.execute_input": "2021-04-30T18:37:17.608476Z",
     "iopub.status.busy": "2021-04-30T18:37:17.607458Z",
     "iopub.status.idle": "2021-04-30T18:37:17.613722Z",
     "shell.execute_reply": "2021-04-30T18:37:17.614215Z"
    },
    "papermill": {
     "duration": 0.036745,
     "end_time": "2021-04-30T18:37:17.614442",
     "exception": false,
     "start_time": "2021-04-30T18:37:17.577697",
     "status": "completed"
    },
    "tags": []
   },
   "outputs": [
    {
     "data": {
      "text/plain": [
       "Index(['Tanggal', 'Value', 'Tweets', 'Unnamed: 3', 'Screen Name', 'Unnamed: 5',\n",
       "       'Source', 'Retweet Status', 'Hashtags', 'Unnamed: 9', 'Unnamed: 10'],\n",
       "      dtype='object')"
      ]
     },
     "execution_count": 11,
     "metadata": {},
     "output_type": "execute_result"
    }
   ],
   "source": [
    "df.columns"
   ]
  },
  {
   "cell_type": "code",
   "execution_count": 12,
   "id": "adopted-diagnosis",
   "metadata": {
    "execution": {
     "iopub.execute_input": "2021-04-30T18:37:17.672657Z",
     "iopub.status.busy": "2021-04-30T18:37:17.671651Z",
     "iopub.status.idle": "2021-04-30T18:37:17.700401Z",
     "shell.execute_reply": "2021-04-30T18:37:17.700939Z"
    },
    "papermill": {
     "duration": 0.059938,
     "end_time": "2021-04-30T18:37:17.701189",
     "exception": false,
     "start_time": "2021-04-30T18:37:17.641251",
     "status": "completed"
    },
    "tags": []
   },
   "outputs": [
    {
     "data": {
      "text/html": [
       "<div>\n",
       "<style scoped>\n",
       "    .dataframe tbody tr th:only-of-type {\n",
       "        vertical-align: middle;\n",
       "    }\n",
       "\n",
       "    .dataframe tbody tr th {\n",
       "        vertical-align: top;\n",
       "    }\n",
       "\n",
       "    .dataframe thead th {\n",
       "        text-align: right;\n",
       "    }\n",
       "</style>\n",
       "<table border=\"1\" class=\"dataframe\">\n",
       "  <thead>\n",
       "    <tr style=\"text-align: right;\">\n",
       "      <th></th>\n",
       "      <th>Tanggal</th>\n",
       "      <th>Value</th>\n",
       "      <th>Tweets</th>\n",
       "      <th>Unnamed: 3</th>\n",
       "      <th>Screen Name</th>\n",
       "      <th>Unnamed: 5</th>\n",
       "      <th>Source</th>\n",
       "      <th>Retweet Status</th>\n",
       "      <th>Hashtags</th>\n",
       "      <th>Unnamed: 9</th>\n",
       "      <th>Unnamed: 10</th>\n",
       "    </tr>\n",
       "  </thead>\n",
       "  <tbody>\n",
       "    <tr>\n",
       "      <th>0</th>\n",
       "      <td>2021-04-30 16:22:33</td>\n",
       "      <td>1</td>\n",
       "      <td>b'@JayKeyFN 1) Avengers Endgame Collab\\n2) Sta...</td>\n",
       "      <td>NaN</td>\n",
       "      <td>GreenieDaArtist</td>\n",
       "      <td>NaN</td>\n",
       "      <td>Twitter for Android</td>\n",
       "      <td>0.0</td>\n",
       "      <td>[]</td>\n",
       "      <td>NaN</td>\n",
       "      <td>NaN</td>\n",
       "    </tr>\n",
       "    <tr>\n",
       "      <th>1</th>\n",
       "      <td>2021-04-30 16:22:23</td>\n",
       "      <td>1</td>\n",
       "      <td>b'@JayKeyFN 1. All of Chapter 2 Season 4\\n2. T...</td>\n",
       "      <td>NaN</td>\n",
       "      <td>EpicSansMain_</td>\n",
       "      <td>NaN</td>\n",
       "      <td>Twitter for Android</td>\n",
       "      <td>0.0</td>\n",
       "      <td>[]</td>\n",
       "      <td>NaN</td>\n",
       "      <td>NaN</td>\n",
       "    </tr>\n",
       "    <tr>\n",
       "      <th>2</th>\n",
       "      <td>2021-04-30 16:22:00</td>\n",
       "      <td>0</td>\n",
       "      <td>b'Imagine I went to Olongapo with no one and w...</td>\n",
       "      <td>NaN</td>\n",
       "      <td>yvnnxvrn_</td>\n",
       "      <td>NaN</td>\n",
       "      <td>Twitter for Android</td>\n",
       "      <td>0.0</td>\n",
       "      <td>[]</td>\n",
       "      <td>NaN</td>\n",
       "      <td>NaN</td>\n",
       "    </tr>\n",
       "    <tr>\n",
       "      <th>3</th>\n",
       "      <td>2021-04-30 16:14:48</td>\n",
       "      <td>1</td>\n",
       "      <td>b'Avengers Endgame rewatch. \\nOh boy!\\nTony!!!...</td>\n",
       "      <td>NaN</td>\n",
       "      <td>SongWarmonger</td>\n",
       "      <td>NaN</td>\n",
       "      <td>Twitter for Android</td>\n",
       "      <td>0.0</td>\n",
       "      <td>[]</td>\n",
       "      <td>NaN</td>\n",
       "      <td>NaN</td>\n",
       "    </tr>\n",
       "    <tr>\n",
       "      <th>4</th>\n",
       "      <td>2021-04-30 16:11:52</td>\n",
       "      <td>1</td>\n",
       "      <td>b'@momsfilms Thanks Anne. Feeling a bit better...</td>\n",
       "      <td>NaN</td>\n",
       "      <td>SongWarmonger</td>\n",
       "      <td>NaN</td>\n",
       "      <td>Twitter for Android</td>\n",
       "      <td>0.0</td>\n",
       "      <td>[]</td>\n",
       "      <td>NaN</td>\n",
       "      <td>NaN</td>\n",
       "    </tr>\n",
       "    <tr>\n",
       "      <th>...</th>\n",
       "      <td>...</td>\n",
       "      <td>...</td>\n",
       "      <td>...</td>\n",
       "      <td>...</td>\n",
       "      <td>...</td>\n",
       "      <td>...</td>\n",
       "      <td>...</td>\n",
       "      <td>...</td>\n",
       "      <td>...</td>\n",
       "      <td>...</td>\n",
       "      <td>...</td>\n",
       "    </tr>\n",
       "    <tr>\n",
       "      <th>1527</th>\n",
       "      <td>2021-04-29 00:02:54</td>\n",
       "      <td>1</td>\n",
       "      <td>b'@taecutweb @BTS_twt AVENGERS ENDGAME \\n\\nI v...</td>\n",
       "      <td>NaN</td>\n",
       "      <td>HOUSEIFCARDS_</td>\n",
       "      <td>NaN</td>\n",
       "      <td>Twitter for iPhone</td>\n",
       "      <td>0.0</td>\n",
       "      <td>['BTSARMY', 'BestFanArmy', 'iHeartAwards']</td>\n",
       "      <td>NaN</td>\n",
       "      <td>NaN</td>\n",
       "    </tr>\n",
       "    <tr>\n",
       "      <th>1528</th>\n",
       "      <td>2021-04-29 00:02:54</td>\n",
       "      <td>1</td>\n",
       "      <td>b'@noellearchives Hmm I think: Guardians of th...</td>\n",
       "      <td>NaN</td>\n",
       "      <td>wanda_maxiii</td>\n",
       "      <td>NaN</td>\n",
       "      <td>Twitter for iPhone</td>\n",
       "      <td>0.0</td>\n",
       "      <td>[]</td>\n",
       "      <td>NaN</td>\n",
       "      <td>NaN</td>\n",
       "    </tr>\n",
       "    <tr>\n",
       "      <th>1529</th>\n",
       "      <td>2021-04-29 00:02:51</td>\n",
       "      <td>1</td>\n",
       "      <td>b'I literally will scream in joy when he says ...</td>\n",
       "      <td>NaN</td>\n",
       "      <td>LeekingMemory</td>\n",
       "      <td>NaN</td>\n",
       "      <td>Twitter for Android</td>\n",
       "      <td>0.0</td>\n",
       "      <td>[]</td>\n",
       "      <td>NaN</td>\n",
       "      <td>NaN</td>\n",
       "    </tr>\n",
       "    <tr>\n",
       "      <th>1530</th>\n",
       "      <td>2021-04-29 00:01:44</td>\n",
       "      <td>1</td>\n",
       "      <td>b'@FreddyInSpace I blame it on an over relianc...</td>\n",
       "      <td>NaN</td>\n",
       "      <td>LethoPeane</td>\n",
       "      <td>NaN</td>\n",
       "      <td>Twitter for Android</td>\n",
       "      <td>0.0</td>\n",
       "      <td>[]</td>\n",
       "      <td>NaN</td>\n",
       "      <td>NaN</td>\n",
       "    </tr>\n",
       "    <tr>\n",
       "      <th>1531</th>\n",
       "      <td>2021-04-29 00:01:23</td>\n",
       "      <td>1</td>\n",
       "      <td>b'RT @Fandango: On #NationalSuperheroDay, rewa...</td>\n",
       "      <td>NaN</td>\n",
       "      <td>ZETROC___</td>\n",
       "      <td>NaN</td>\n",
       "      <td>Twitter for Android</td>\n",
       "      <td>1.0</td>\n",
       "      <td>['NationalSuperheroDay']</td>\n",
       "      <td>NaN</td>\n",
       "      <td>NaN</td>\n",
       "    </tr>\n",
       "  </tbody>\n",
       "</table>\n",
       "<p>1532 rows × 11 columns</p>\n",
       "</div>"
      ],
      "text/plain": [
       "                 Tanggal  Value  \\\n",
       "0    2021-04-30 16:22:33      1   \n",
       "1    2021-04-30 16:22:23      1   \n",
       "2    2021-04-30 16:22:00      0   \n",
       "3    2021-04-30 16:14:48      1   \n",
       "4    2021-04-30 16:11:52      1   \n",
       "...                  ...    ...   \n",
       "1527 2021-04-29 00:02:54      1   \n",
       "1528 2021-04-29 00:02:54      1   \n",
       "1529 2021-04-29 00:02:51      1   \n",
       "1530 2021-04-29 00:01:44      1   \n",
       "1531 2021-04-29 00:01:23      1   \n",
       "\n",
       "                                                 Tweets  Unnamed: 3  \\\n",
       "0     b'@JayKeyFN 1) Avengers Endgame Collab\\n2) Sta...         NaN   \n",
       "1     b'@JayKeyFN 1. All of Chapter 2 Season 4\\n2. T...         NaN   \n",
       "2     b'Imagine I went to Olongapo with no one and w...         NaN   \n",
       "3     b'Avengers Endgame rewatch. \\nOh boy!\\nTony!!!...         NaN   \n",
       "4     b'@momsfilms Thanks Anne. Feeling a bit better...         NaN   \n",
       "...                                                 ...         ...   \n",
       "1527  b'@taecutweb @BTS_twt AVENGERS ENDGAME \\n\\nI v...         NaN   \n",
       "1528  b'@noellearchives Hmm I think: Guardians of th...         NaN   \n",
       "1529  b'I literally will scream in joy when he says ...         NaN   \n",
       "1530  b'@FreddyInSpace I blame it on an over relianc...         NaN   \n",
       "1531  b'RT @Fandango: On #NationalSuperheroDay, rewa...         NaN   \n",
       "\n",
       "          Screen Name  Unnamed: 5               Source  Retweet Status  \\\n",
       "0     GreenieDaArtist         NaN  Twitter for Android             0.0   \n",
       "1       EpicSansMain_         NaN  Twitter for Android             0.0   \n",
       "2           yvnnxvrn_         NaN  Twitter for Android             0.0   \n",
       "3       SongWarmonger         NaN  Twitter for Android             0.0   \n",
       "4       SongWarmonger         NaN  Twitter for Android             0.0   \n",
       "...               ...         ...                  ...             ...   \n",
       "1527    HOUSEIFCARDS_         NaN   Twitter for iPhone             0.0   \n",
       "1528     wanda_maxiii         NaN   Twitter for iPhone             0.0   \n",
       "1529    LeekingMemory         NaN  Twitter for Android             0.0   \n",
       "1530       LethoPeane         NaN  Twitter for Android             0.0   \n",
       "1531        ZETROC___         NaN  Twitter for Android             1.0   \n",
       "\n",
       "                                        Hashtags Unnamed: 9 Unnamed: 10  \n",
       "0                                             []        NaN         NaN  \n",
       "1                                             []        NaN         NaN  \n",
       "2                                             []        NaN         NaN  \n",
       "3                                             []        NaN         NaN  \n",
       "4                                             []        NaN         NaN  \n",
       "...                                          ...        ...         ...  \n",
       "1527  ['BTSARMY', 'BestFanArmy', 'iHeartAwards']        NaN         NaN  \n",
       "1528                                          []        NaN         NaN  \n",
       "1529                                          []        NaN         NaN  \n",
       "1530                                          []        NaN         NaN  \n",
       "1531                    ['NationalSuperheroDay']        NaN         NaN  \n",
       "\n",
       "[1532 rows x 11 columns]"
      ]
     },
     "execution_count": 12,
     "metadata": {},
     "output_type": "execute_result"
    }
   ],
   "source": [
    "df"
   ]
  },
  {
   "cell_type": "code",
   "execution_count": 13,
   "id": "discrete-pipeline",
   "metadata": {
    "execution": {
     "iopub.execute_input": "2021-04-30T18:37:17.767517Z",
     "iopub.status.busy": "2021-04-30T18:37:17.766671Z",
     "iopub.status.idle": "2021-04-30T18:37:17.943611Z",
     "shell.execute_reply": "2021-04-30T18:37:17.944138Z"
    },
    "papermill": {
     "duration": 0.214903,
     "end_time": "2021-04-30T18:37:17.944367",
     "exception": false,
     "start_time": "2021-04-30T18:37:17.729464",
     "status": "completed"
    },
    "tags": []
   },
   "outputs": [
    {
     "data": {
      "image/png": "[encoded data removed]",
      "text/plain": [
       "<Figure size 432x288 with 1 Axes>"
      ]
     },
     "metadata": {
      "needs_background": "light"
     },
     "output_type": "display_data"
    }
   ],
   "source": [
    "fig1 = sns.countplot(x='Value',data=df, color='#949494')\n",
    "fig1.set_title('Pembagian Komentar')\n",
    "total = float(len(df))\n",
    "for p in fig1.patches:\n",
    "    height = p.get_height()\n",
    "    fig1.text(p.get_x()+p.get_width()/2.,\n",
    "            height + 3,\n",
    "            '{:1.2f}%'.format((height/total)*100),\n",
    "            ha=\"center\") \n",
    "sns.despine()"
   ]
  },
  {
   "cell_type": "code",
   "execution_count": 14,
   "id": "simple-palestinian",
   "metadata": {
    "execution": {
     "iopub.execute_input": "2021-04-30T18:37:18.006378Z",
     "iopub.status.busy": "2021-04-30T18:37:18.005701Z",
     "iopub.status.idle": "2021-04-30T18:37:18.015697Z",
     "shell.execute_reply": "2021-04-30T18:37:18.016294Z"
    },
    "papermill": {
     "duration": 0.042593,
     "end_time": "2021-04-30T18:37:18.016503",
     "exception": false,
     "start_time": "2021-04-30T18:37:17.973910",
     "status": "completed"
    },
    "tags": []
   },
   "outputs": [
    {
     "data": {
      "text/plain": [
       "Tanggal              0\n",
       "Value                0\n",
       "Tweets               0\n",
       "Unnamed: 3        1532\n",
       "Screen Name         26\n",
       "Unnamed: 5        1532\n",
       "Source              26\n",
       "Retweet Status      26\n",
       "Hashtags            26\n",
       "Unnamed: 9        1531\n",
       "Unnamed: 10       1531\n",
       "dtype: int64"
      ]
     },
     "execution_count": 14,
     "metadata": {},
     "output_type": "execute_result"
    }
   ],
   "source": [
    "df.isna().sum()"
   ]
  },
  {
   "cell_type": "code",
   "execution_count": 15,
   "id": "former-particular",
   "metadata": {
    "execution": {
     "iopub.execute_input": "2021-04-30T18:37:18.079645Z",
     "iopub.status.busy": "2021-04-30T18:37:18.078837Z",
     "iopub.status.idle": "2021-04-30T18:37:18.084194Z",
     "shell.execute_reply": "2021-04-30T18:37:18.084761Z"
    },
    "papermill": {
     "duration": 0.039018,
     "end_time": "2021-04-30T18:37:18.084961",
     "exception": false,
     "start_time": "2021-04-30T18:37:18.045943",
     "status": "completed"
    },
    "tags": []
   },
   "outputs": [],
   "source": [
    "train = df[:int(len(df)*0.5)]\n",
    "test = df[int(len(df)*0.5):-1]"
   ]
  },
  {
   "cell_type": "code",
   "execution_count": 16,
   "id": "dangerous-pipeline",
   "metadata": {
    "execution": {
     "iopub.execute_input": "2021-04-30T18:37:18.150821Z",
     "iopub.status.busy": "2021-04-30T18:37:18.150038Z",
     "iopub.status.idle": "2021-04-30T18:37:18.154077Z",
     "shell.execute_reply": "2021-04-30T18:37:18.154614Z"
    },
    "papermill": {
     "duration": 0.039646,
     "end_time": "2021-04-30T18:37:18.154818",
     "exception": false,
     "start_time": "2021-04-30T18:37:18.115172",
     "status": "completed"
    },
    "tags": []
   },
   "outputs": [
    {
     "name": "stdout",
     "output_type": "stream",
     "text": [
      "766\n",
      "765\n"
     ]
    }
   ],
   "source": [
    "print(len(train))\n",
    "print(len(test))"
   ]
  },
  {
   "cell_type": "code",
   "execution_count": 17,
   "id": "interested-liberia",
   "metadata": {
    "execution": {
     "iopub.execute_input": "2021-04-30T18:37:18.220743Z",
     "iopub.status.busy": "2021-04-30T18:37:18.220002Z",
     "iopub.status.idle": "2021-04-30T18:37:24.930474Z",
     "shell.execute_reply": "2021-04-30T18:37:24.928889Z"
    },
    "papermill": {
     "duration": 6.745882,
     "end_time": "2021-04-30T18:37:24.930669",
     "exception": false,
     "start_time": "2021-04-30T18:37:18.184787",
     "status": "completed"
    },
    "tags": []
   },
   "outputs": [],
   "source": [
    "from keras.preprocessing.text import Tokenizer"
   ]
  },
  {
   "cell_type": "code",
   "execution_count": 18,
   "id": "stuck-dutch",
   "metadata": {
    "execution": {
     "iopub.execute_input": "2021-04-30T18:37:25.017679Z",
     "iopub.status.busy": "2021-04-30T18:37:25.016191Z",
     "iopub.status.idle": "2021-04-30T18:37:25.028471Z",
     "shell.execute_reply": "2021-04-30T18:37:25.029011Z"
    },
    "papermill": {
     "duration": 0.065986,
     "end_time": "2021-04-30T18:37:25.029263",
     "exception": false,
     "start_time": "2021-04-30T18:37:24.963277",
     "status": "completed"
    },
    "tags": []
   },
   "outputs": [
    {
     "data": {
      "text/plain": [
       "0    b'@JayKeyFN 1) Avengers Endgame Collab\\n2) Sta...\n",
       "1    b'@JayKeyFN 1. All of Chapter 2 Season 4\\n2. T...\n",
       "2    b'Imagine I went to Olongapo with no one and w...\n",
       "3    b'Avengers Endgame rewatch. \\nOh boy!\\nTony!!!...\n",
       "4    b'@momsfilms Thanks Anne. Feeling a bit better...\n",
       "Name: Tweets, dtype: object"
      ]
     },
     "execution_count": 18,
     "metadata": {},
     "output_type": "execute_result"
    }
   ],
   "source": [
    "data_tweet = train['Tweets']\n",
    "data_tweet.head()"
   ]
  },
  {
   "cell_type": "code",
   "execution_count": 19,
   "id": "buried-charger",
   "metadata": {
    "execution": {
     "iopub.execute_input": "2021-04-30T18:37:25.139825Z",
     "iopub.status.busy": "2021-04-30T18:37:25.128936Z",
     "iopub.status.idle": "2021-04-30T18:37:25.267247Z",
     "shell.execute_reply": "2021-04-30T18:37:25.266610Z"
    },
    "papermill": {
     "duration": 0.200595,
     "end_time": "2021-04-30T18:37:25.267427",
     "exception": false,
     "start_time": "2021-04-30T18:37:25.066832",
     "status": "completed"
    },
    "tags": []
   },
   "outputs": [],
   "source": [
    "token = Tokenizer()\n",
    "token.fit_on_texts(train['Tweets'])\n",
    "seq_data_tweet = token.texts_to_sequences(train['Tweets'])\n",
    "enc_data_tweet = token.sequences_to_matrix(seq_data_tweet,mode=\"tfidf\")"
   ]
  },
  {
   "cell_type": "code",
   "execution_count": 20,
   "id": "suited-domain",
   "metadata": {
    "execution": {
     "iopub.execute_input": "2021-04-30T18:37:25.335950Z",
     "iopub.status.busy": "2021-04-30T18:37:25.335090Z",
     "iopub.status.idle": "2021-04-30T18:37:25.339148Z",
     "shell.execute_reply": "2021-04-30T18:37:25.338594Z"
    },
    "papermill": {
     "duration": 0.040858,
     "end_time": "2021-04-30T18:37:25.339320",
     "exception": false,
     "start_time": "2021-04-30T18:37:25.298462",
     "status": "completed"
    },
    "tags": []
   },
   "outputs": [],
   "source": [
    "label = train['Value']"
   ]
  },
  {
   "cell_type": "code",
   "execution_count": 21,
   "id": "modern-uncertainty",
   "metadata": {
    "execution": {
     "iopub.execute_input": "2021-04-30T18:37:25.406403Z",
     "iopub.status.busy": "2021-04-30T18:37:25.405637Z",
     "iopub.status.idle": "2021-04-30T18:37:25.410075Z",
     "shell.execute_reply": "2021-04-30T18:37:25.410707Z"
    },
    "papermill": {
     "duration": 0.039893,
     "end_time": "2021-04-30T18:37:25.410917",
     "exception": false,
     "start_time": "2021-04-30T18:37:25.371024",
     "status": "completed"
    },
    "tags": []
   },
   "outputs": [],
   "source": [
    "x_train = enc_data_tweet\n",
    "y_train = label"
   ]
  },
  {
   "cell_type": "code",
   "execution_count": 22,
   "id": "biblical-interference",
   "metadata": {
    "execution": {
     "iopub.execute_input": "2021-04-30T18:37:25.478551Z",
     "iopub.status.busy": "2021-04-30T18:37:25.477720Z",
     "iopub.status.idle": "2021-04-30T18:37:25.623230Z",
     "shell.execute_reply": "2021-04-30T18:37:25.623855Z"
    },
    "papermill": {
     "duration": 0.181131,
     "end_time": "2021-04-30T18:37:25.624090",
     "exception": false,
     "start_time": "2021-04-30T18:37:25.442959",
     "status": "completed"
    },
    "tags": []
   },
   "outputs": [],
   "source": [
    "token_test = Tokenizer()\n",
    "token_test.fit_on_texts(test['Tweets'])\n",
    "seq_data_tweet_test = token.texts_to_sequences(test['Tweets'])\n",
    "enc_data_tweet_test = token.sequences_to_matrix(seq_data_tweet_test,mode=\"tfidf\")"
   ]
  },
  {
   "cell_type": "code",
   "execution_count": 23,
   "id": "entitled-stocks",
   "metadata": {
    "execution": {
     "iopub.execute_input": "2021-04-30T18:37:25.694005Z",
     "iopub.status.busy": "2021-04-30T18:37:25.693278Z",
     "iopub.status.idle": "2021-04-30T18:37:25.696795Z",
     "shell.execute_reply": "2021-04-30T18:37:25.696132Z"
    },
    "papermill": {
     "duration": 0.040706,
     "end_time": "2021-04-30T18:37:25.696952",
     "exception": false,
     "start_time": "2021-04-30T18:37:25.656246",
     "status": "completed"
    },
    "tags": []
   },
   "outputs": [],
   "source": [
    "label_test = test['Value']"
   ]
  },
  {
   "cell_type": "code",
   "execution_count": 24,
   "id": "bronze-poland",
   "metadata": {
    "execution": {
     "iopub.execute_input": "2021-04-30T18:37:25.766346Z",
     "iopub.status.busy": "2021-04-30T18:37:25.765291Z",
     "iopub.status.idle": "2021-04-30T18:37:25.768369Z",
     "shell.execute_reply": "2021-04-30T18:37:25.768837Z"
    },
    "papermill": {
     "duration": 0.040479,
     "end_time": "2021-04-30T18:37:25.769083",
     "exception": false,
     "start_time": "2021-04-30T18:37:25.728604",
     "status": "completed"
    },
    "tags": []
   },
   "outputs": [],
   "source": [
    "x_test = enc_data_tweet_test\n",
    "y_test = label_test"
   ]
  },
  {
   "cell_type": "code",
   "execution_count": 25,
   "id": "affiliated-texture",
   "metadata": {
    "execution": {
     "iopub.execute_input": "2021-04-30T18:37:25.840808Z",
     "iopub.status.busy": "2021-04-30T18:37:25.840062Z",
     "iopub.status.idle": "2021-04-30T18:37:26.270350Z",
     "shell.execute_reply": "2021-04-30T18:37:26.269556Z"
    },
    "papermill": {
     "duration": 0.469782,
     "end_time": "2021-04-30T18:37:26.270528",
     "exception": false,
     "start_time": "2021-04-30T18:37:25.800746",
     "status": "completed"
    },
    "tags": []
   },
   "outputs": [
    {
     "data": {
      "text/plain": [
       "SVC()"
      ]
     },
     "execution_count": 25,
     "metadata": {},
     "output_type": "execute_result"
    }
   ],
   "source": [
    "from sklearn.svm import SVC\n",
    "clf = SVC()\n",
    "clf.fit(x_train,y_train)"
   ]
  },
  {
   "cell_type": "code",
   "execution_count": 26,
   "id": "distributed-bridge",
   "metadata": {
    "execution": {
     "iopub.execute_input": "2021-04-30T18:37:26.342618Z",
     "iopub.status.busy": "2021-04-30T18:37:26.341793Z",
     "iopub.status.idle": "2021-04-30T18:37:27.093961Z",
     "shell.execute_reply": "2021-04-30T18:37:27.094533Z"
    },
    "papermill": {
     "duration": 0.791446,
     "end_time": "2021-04-30T18:37:27.094739",
     "exception": false,
     "start_time": "2021-04-30T18:37:26.303293",
     "status": "completed"
    },
    "tags": []
   },
   "outputs": [],
   "source": [
    "pred = clf.predict(x_test)"
   ]
  },
  {
   "cell_type": "code",
   "execution_count": 27,
   "id": "finished-safety",
   "metadata": {
    "execution": {
     "iopub.execute_input": "2021-04-30T18:37:27.161915Z",
     "iopub.status.busy": "2021-04-30T18:37:27.160938Z",
     "iopub.status.idle": "2021-04-30T18:37:27.173757Z",
     "shell.execute_reply": "2021-04-30T18:37:27.173217Z"
    },
    "papermill": {
     "duration": 0.047563,
     "end_time": "2021-04-30T18:37:27.173892",
     "exception": false,
     "start_time": "2021-04-30T18:37:27.126329",
     "status": "completed"
    },
    "tags": []
   },
   "outputs": [
    {
     "data": {
      "text/plain": [
       "array([[  1,   0],\n",
       "       [ 15, 749]])"
      ]
     },
     "execution_count": 27,
     "metadata": {},
     "output_type": "execute_result"
    }
   ],
   "source": [
    "from sklearn.metrics import confusion_matrix\n",
    "confusion_matrix(y_test, pred)"
   ]
  },
  {
   "cell_type": "code",
   "execution_count": 28,
   "id": "indie-female",
   "metadata": {
    "execution": {
     "iopub.execute_input": "2021-04-30T18:37:27.244809Z",
     "iopub.status.busy": "2021-04-30T18:37:27.243747Z",
     "iopub.status.idle": "2021-04-30T18:37:27.255670Z",
     "shell.execute_reply": "2021-04-30T18:37:27.255028Z"
    },
    "papermill": {
     "duration": 0.05023,
     "end_time": "2021-04-30T18:37:27.255810",
     "exception": false,
     "start_time": "2021-04-30T18:37:27.205580",
     "status": "completed"
    },
    "tags": []
   },
   "outputs": [
    {
     "name": "stdout",
     "output_type": "stream",
     "text": [
      "              precision    recall  f1-score   support\n",
      "\n",
      "           0       0.06      1.00      0.12         1\n",
      "           1       1.00      0.98      0.99       764\n",
      "\n",
      "    accuracy                           0.98       765\n",
      "   macro avg       0.53      0.99      0.55       765\n",
      "weighted avg       1.00      0.98      0.99       765\n",
      "\n"
     ]
    }
   ],
   "source": [
    "from sklearn.metrics import classification_report\n",
    "print(classification_report(y_test, pred))"
   ]
  },
  {
   "cell_type": "code",
   "execution_count": null,
   "id": "bored-convertible",
   "metadata": {
    "papermill": {
     "duration": 0.031967,
     "end_time": "2021-04-30T18:37:27.320346",
     "exception": false,
     "start_time": "2021-04-30T18:37:27.288379",
     "status": "completed"
    },
    "tags": []
   },
   "outputs": [],
   "source": []
  }
 ],
 "metadata": {
  "kernelspec": {
   "display_name": "Python 3",
   "language": "python",
   "name": "python3"
  },
  "language_info": {
   "codemirror_mode": {
    "name": "ipython",
    "version": 3
   },
   "file_extension": ".py",
   "mimetype": "text/x-python",
   "name": "python",
   "nbconvert_exporter": "python",
   "pygments_lexer": "ipython3",
   "version": "3.7.10"
  },
  "papermill": {
   "default_parameters": {},
   "duration": 35.007826,
   "end_time": "2021-04-30T18:37:30.091834",
   "environment_variables": {},
   "exception": null,
   "input_path": "__notebook__.ipynb",
   "output_path": "__notebook__.ipynb",
   "parameters": {},
   "start_time": "2021-04-30T18:36:55.084008",
   "version": "2.3.3"
  }
 },
 "nbformat": 4,
 "nbformat_minor": 5
}
